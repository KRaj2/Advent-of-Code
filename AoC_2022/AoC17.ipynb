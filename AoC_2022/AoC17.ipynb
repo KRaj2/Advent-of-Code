{
 "cells": [
  {
   "cell_type": "code",
   "execution_count": 106,
   "metadata": {},
   "outputs": [],
   "source": [
    "puzzle = open(\"AoC17.txt\").read().splitlines()\n",
    "puzzle = list(puzzle[0])"
   ]
  },
  {
   "cell_type": "code",
   "execution_count": 107,
   "metadata": {},
   "outputs": [],
   "source": [
    "blocks = {}\n",
    "blocks[1] = [(0,0),(0,1),(0,2),(0,3)] # -\n",
    "blocks[2] = [(0,0),(1,0),(1,1),(1,-1),(2,0)] # +\n",
    "blocks[3] = [(0,0),(0,1),(0,2),(1,2),(2,2)] # ⅃\n",
    "blocks[4] = [(0,0),(1,0),(2,0),(3,0)] # |\n",
    "blocks[5] = [(0,0),(0,1),(1,0),(1,1)] # ▢\n",
    "left = {}\n",
    "left[1] = [(0,0)] # -\n",
    "left[2] = [(0,0),(1,-1),(2,0)] # +\n",
    "left[3] = [(0,0),(1,2),(2,2)] # ⅃\n",
    "left[4] = [(0,0),(1,0),(2,0),(3,0)] # |\n",
    "left[5] = [(0,0),(1,0)] # ▢\n",
    "down = {}\n",
    "down[1] = [(0,0),(0,1),(0,2),(0,3)] # -\n",
    "down[2] = [(0,0),(1,1),(1,-1)] # +\n",
    "down[3] = [(0,0),(0,1),(0,2)] # ⅃\n",
    "down[4] = [(0,0)] # |\n",
    "down[5] = [(0,0),(0,1)] # ▢\n",
    "right = {}\n",
    "right[1] = [(0,3)] # -\n",
    "right[2] = [(0,0),(1,1),(2,0)] # +\n",
    "right[3] = [(0,2),(1,2),(2,2)] # ⅃\n",
    "right[4] = [(0,0),(1,0),(2,0),(3,0)] # |\n",
    "right[5] = [(1,0),(1,1)] # ▢\n",
    "leftEdge = {}\n",
    "leftEdge[1] = 0 # -\n",
    "leftEdge[2] = -1 # +\n",
    "leftEdge[3] = 0 # ⅃\n",
    "leftEdge[4] = 0 # |\n",
    "leftEdge[5] = 0 # ▢\n",
    "height = {}\n",
    "height[1] = 1 # -\n",
    "height[2] = 3 # +\n",
    "height[3] = 3 # ⅃\n",
    "height[4] = 4 # |\n",
    "height[5] = 2 # ▢\n",
    "lr = {}\n",
    "lr[\"<\"] = (0,-1)\n",
    "lr[\">\"] = (0,1)"
   ]
  },
  {
   "cell_type": "code",
   "execution_count": 108,
   "metadata": {},
   "outputs": [],
   "source": [
    "def ad(block, dir):\n",
    "    return (block[0]+dir[0], block[1]+dir[1])\n",
    "\n",
    "def d(block, tet, pos):\n",
    "    #returns true if block cannot go down\n",
    "    for i in down[block]:\n",
    "        dow = ad(i, pos)\n",
    "        if ad((-1,0), dow) in tet:\n",
    "            return False\n",
    "    return True\n",
    "\n",
    "def l(block, tet, pos):\n",
    "    #returns true if block cannot go left\n",
    "    for i in left[block]:\n",
    "        lef = ad(i, pos)\n",
    "        if ad((0,-1), lef) in tet:\n",
    "            return False\n",
    "        if ad((0,-1),lef)[0]<0:\n",
    "            return False\n",
    "    return True\n",
    "\n",
    "def r(block, tet, pos):\n",
    "    #returns true if block cannot go right\n",
    "    for i in right[block]:\n",
    "        rig = ad(i, pos)\n",
    "        if ad((0,1), rig) in tet:\n",
    "            return False\n",
    "        if ad((0,1),rig)[0]>6:\n",
    "            return False\n",
    "    return True\n",
    "\n",
    "def move(block, tet, pos, ch):\n",
    "    if(ch==\"<\"):\n",
    "        return l(block,tet,pos)\n",
    "    elif(ch==\">\"):\n",
    "        return r(block,tet,pos)\n",
    "    return d(block,tet,pos)\n",
    "\n",
    "def init(block, to):\n",
    "    x = to+4\n",
    "    y = 3+leftEdge[block]\n",
    "    return (x,y)\n",
    "\n",
    "def add(block, tet, pos):\n",
    "    for i in blocks[block]:\n",
    "        tet.add(ad(i, pos))\n",
    "    return tet"
   ]
  },
  {
   "cell_type": "code",
   "execution_count": 109,
   "metadata": {},
   "outputs": [],
   "source": [
    "tet = set()\n",
    "for i in range(7):\n",
    "    tet.add((0,i))\n",
    "top = 0"
   ]
  },
  {
   "cell_type": "code",
   "execution_count": 113,
   "metadata": {},
   "outputs": [],
   "source": [
    "ctr = 0\n",
    "siz = len(puzzle)\n",
    "for i in range(2022):\n",
    "    block = i%5+1\n",
    "    pos = init(block, top)\n",
    "    ctr2 = 0\n",
    "    while(ctr2<10):\n",
    "        if(ctr2%2==1):\n",
    "            #move down\n",
    "            if(d(block, tet, pos)):\n",
    "                pos = ad((-1,0), pos)\n",
    "                ctr2+=1\n",
    "                continue\n",
    "            else:\n",
    "                tet = add(block, tet, pos)\n",
    "                top = max(pos[1]+height[block],top)\n",
    "                break\n",
    "        else:\n",
    "            #move left/right\n",
    "            ch = puzzle[ctr%siz]\n",
    "            if(move(block, tet, pos, ch)):\n",
    "                pos = ad(lr[ch], pos)\n",
    "                ctr2+=1\n",
    "                continue\n",
    "            else:\n",
    "                ctr2+=1\n",
    "    ctr+=1"
   ]
  },
  {
   "cell_type": "code",
   "execution_count": 114,
   "metadata": {},
   "outputs": [
    {
     "name": "stdout",
     "output_type": "stream",
     "text": [
      "7\n"
     ]
    }
   ],
   "source": [
    "print(top)"
   ]
  }
 ],
 "metadata": {
  "kernelspec": {
   "display_name": "Python 3.8.16 64-bit ('3.8.16')",
   "language": "python",
   "name": "python3"
  },
  "language_info": {
   "codemirror_mode": {
    "name": "ipython",
    "version": 3
   },
   "file_extension": ".py",
   "mimetype": "text/x-python",
   "name": "python",
   "nbconvert_exporter": "python",
   "pygments_lexer": "ipython3",
   "version": "3.8.16"
  },
  "orig_nbformat": 4,
  "vscode": {
   "interpreter": {
    "hash": "83d716789636f2c43bd4464069cb5695a0d9efbaa75c4707909d1f0a350467f7"
   }
  }
 },
 "nbformat": 4,
 "nbformat_minor": 2
}
