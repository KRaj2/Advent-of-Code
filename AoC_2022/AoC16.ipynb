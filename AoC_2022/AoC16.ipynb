{
 "cells": [
  {
   "cell_type": "code",
   "execution_count": 222,
   "metadata": {},
   "outputs": [],
   "source": [
    "puzzle = open(\"AoC16.txt\").read().splitlines()\n",
    "puzzle = [i.split(\" \") for i in puzzle]\n",
    "valves = [i[1] for i in puzzle]\n",
    "flowrates = [int(i[4].split(\"=\")[-1][:-1]) for i in puzzle]\n",
    "outputs = {}\n",
    "for i in range(len(puzzle)):\n",
    "    ans = []\n",
    "    for j in range(9, len(puzzle[i])):\n",
    "        ans.append(puzzle[i][j][:2])\n",
    "    outputs[valves[i]]=ans\n",
    "flows = {}\n",
    "for i in range(len(valves)):\n",
    "    flows[valves[i]]=flowrates[i]\n"
   ]
  },
  {
   "cell_type": "code",
   "execution_count": 223,
   "metadata": {},
   "outputs": [],
   "source": [
    "#Find distance matrix between all valves with nonzero flow\n",
    "dist = {}\n",
    "for i in range(len(valves)):\n",
    "    if flowrates[i]!=0:\n",
    "        dist[valves[i]]={}\n",
    "        for j in range(len(valves)):\n",
    "            if flowrates[j]!=0:\n",
    "                dist[valves[i]][valves[j]]=abs(i-j)\n",
    "#Find the shortest path between valves with shor"
   ]
  },
  {
   "cell_type": "code",
   "execution_count": 224,
   "metadata": {},
   "outputs": [
    {
     "name": "stdout",
     "output_type": "stream",
     "text": [
      "{'BB': 1, 'CC': 2, 'DD': 4, 'EE': 8, 'HH': 16, 'JJ': 32}\n"
     ]
    }
   ],
   "source": [
    "nonzero = [valves[i] for i in range(len(valves)) if flowrates[i]!=0]\n",
    "bin = {}\n",
    "for i in range(len(nonzero)):\n",
    "    bin[nonzero[i]]=2**i\n",
    "print(bin)\n",
    "#write function that determines if valve is in a binary representation fo visited valves\n",
    "def inbin(valve, bi):\n",
    "    return bi & (2**nonzero.index(valve))!=0"
   ]
  },
  {
   "cell_type": "code",
   "execution_count": 232,
   "metadata": {},
   "outputs": [],
   "source": [
    "cache = {}\n",
    "#Cache will have input start, time_remaining, visited\n",
    "#Output will be (max flow, pressure at the end)\n",
    "def dfs(start, time, visited):\n",
    "    if time == 0:\n",
    "        return (0,0)\n",
    "    # option 1: turn on the valves\n",
    "    withValve = (0,0)\n",
    "    if(flows[start]!=0 and (not inbin(start, visited))):\n",
    "        c = cache.get((start, time-1, visited), (-1,-1))\n",
    "        if c[0]==-1:\n",
    "            c = dfs(start, time-1, visited)\n",
    "            cache[(start, time-1, visited)] = c\n",
    "        withValve = (c[0]+c[1], c[1]+flows[start])\n",
    "        cache[(start, time, visited+bin[start])] = withValve\n",
    "    # option 2: move to a neighbor\n",
    "    withoutValve = (0,0)\n",
    "    for i in outputs[start]:\n",
    "        c = cache.get((i, time-1, visited), (-1,-1))\n",
    "        if c[0]==-1:\n",
    "            c = dfs(i, time-1, visited)\n",
    "            cache[(i, time-1, visited)] = c\n",
    "        withoutValve = max(withoutValve, (c[0]+c[1],c[1]), key=lambda x: x[0])\n",
    "    cache[(start, time, visited)] = withoutValve\n",
    "    winner = (0,0)\n",
    "    if(withValve[0]<withoutValve[0]):\n",
    "        winner = withoutValve\n",
    "    else:\n",
    "        winner = withValve\n",
    "    return winner"
   ]
  },
  {
   "cell_type": "code",
   "execution_count": null,
   "metadata": {},
   "outputs": [],
   "source": []
  },
  {
   "cell_type": "code",
   "execution_count": 233,
   "metadata": {},
   "outputs": [
    {
     "name": "stdout",
     "output_type": "stream",
     "text": [
      "(60, 40)\n"
     ]
    }
   ],
   "source": [
    "print(dfs(\"AA\", 3, 0))"
   ]
  },
  {
   "cell_type": "code",
   "execution_count": null,
   "metadata": {},
   "outputs": [],
   "source": []
  }
 ],
 "metadata": {
  "kernelspec": {
   "display_name": "Python 3.8.16 64-bit ('3.8.16')",
   "language": "python",
   "name": "python3"
  },
  "language_info": {
   "codemirror_mode": {
    "name": "ipython",
    "version": 3
   },
   "file_extension": ".py",
   "mimetype": "text/x-python",
   "name": "python",
   "nbconvert_exporter": "python",
   "pygments_lexer": "ipython3",
   "version": "3.8.16"
  },
  "orig_nbformat": 4,
  "vscode": {
   "interpreter": {
    "hash": "83d716789636f2c43bd4464069cb5695a0d9efbaa75c4707909d1f0a350467f7"
   }
  }
 },
 "nbformat": 4,
 "nbformat_minor": 2
}
